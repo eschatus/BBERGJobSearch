{
  "metadata": {
    "kernelspec": {
      "name": "py-dku-containerized-venv-py39_helm-cpu-s-0.5-cpu-2gb-ram",
      "display_name": "Python in CPU-S-0.5-cpu-2Gb-Ram (env py39_helm)",
      "language": "python"
    },
    "hide_input": false,
    "language_info": {
      "name": "python",
      "version": "3.9.19",
      "mimetype": "text/x-python",
      "codemirror_mode": {
        "name": "ipython",
        "version": 3
      },
      "pygments_lexer": "ipython3",
      "nbconvert_exporter": "python",
      "file_extension": ".py"
    },
    "customFields": {},
    "tags": [],
    "createdOn": 1732724126984,
    "creator": "sibongile.toure@dataiku.com",
    "modifiedBy": "sibongile.toure@dataiku.com"
  },
  "nbformat": 4,
  "nbformat_minor": 1,
  "cells": [
    {
      "execution_count": 0,
      "cell_type": "code",
      "metadata": {},
      "source": [
        "%pylab inline"
      ],
      "outputs": []
    },
    {
      "execution_count": 0,
      "cell_type": "code",
      "metadata": {},
      "source": [
        "import dataiku\nfrom dataiku import pandasutils as pdu\nimport pandas as pd\nimport helm.benchmark\nfrom dataclasses import dataclass, replace\nimport json\nimport os\nfrom random import Random\nfrom pathlib import Path\nfrom collections import defaultdict\nfrom typing import Dict, Optional, List"
      ],
      "outputs": []
    },
    {
      "execution_count": 0,
      "cell_type": "code",
      "metadata": {},
      "source": [
        "# Example: load a DSS dataset as a Pandas dataframe\nmydataset \u003d dataiku.Dataset(\"mydataset\")\nmydataset_df \u003d mydataset.get_dataframe()"
      ],
      "outputs": []
    },
    {
      "execution_count": 0,
      "cell_type": "code",
      "metadata": {},
      "source": [
        "test \u003d helm.benchmark.augmentations.perturbation.TextPertubation.DialectPerturbation(0.5,\u0027SAE\u0027,\u0027AAVE\u0027)"
      ],
      "outputs": []
    },
    {
      "execution_count": 0,
      "cell_type": "code",
      "metadata": {},
      "source": [
        ""
      ],
      "outputs": []
    }
  ]
}