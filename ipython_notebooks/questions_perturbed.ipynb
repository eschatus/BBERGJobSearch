{
  "metadata": {
    "kernelspec": {
      "name": "py-dku-containerized-venv-py39_helm-cpu-l-1-cpu-8gb-ram",
      "display_name": "Python in CPU-L-1-cpu-8Gb-Ram (env py39_helm)",
      "language": "python"
    },
    "hide_input": false,
    "language_info": {
      "name": "python",
      "version": "3.9.19",
      "mimetype": "text/x-python",
      "codemirror_mode": {
        "name": "ipython",
        "version": 3
      },
      "pygments_lexer": "ipython3",
      "nbconvert_exporter": "python",
      "file_extension": ".py"
    },
    "customFields": {},
    "creator": "sibongile.toure@dataiku.com",
    "tags": [],
    "createdOn": 1732563506997,
    "modifiedBy": "sibongile.toure@dataiku.com"
  },
  "nbformat": 4,
  "nbformat_minor": 1,
  "cells": [
    {
      "execution_count": 0,
      "cell_type": "code",
      "metadata": {},
      "source": [
        "import dataiku\nfrom dataiku import pandasutils as pdu\nimport pandas as pd\nfrom helm.benchmark.augmentations.perturbation_description import PerturbationDescription\nfrom helm.benchmark.augmentations.perturbation import TextPerturbation,\nimport random as rng"
      ],
      "outputs": []
    },
    {
      "execution_count": 0,
      "cell_type": "code",
      "metadata": {},
      "source": [
        "# Example: load a DSS dataset as a Pandas dataframe\nmydataset \u003d dataiku.Dataset(\"mydataset\")\nmydataset_df \u003d mydataset.get_dataframe()"
      ],
      "outputs": []
    },
    {
      "execution_count": 0,
      "cell_type": "code",
      "metadata": {},
      "source": [
        "TextPerturbation.perturb(\u0027Hello\u0027,)"
      ],
      "outputs": []
    },
    {
      "execution_count": 0,
      "cell_type": "code",
      "metadata": {},
      "source": [
        ""
      ],
      "outputs": []
    }
  ]
}