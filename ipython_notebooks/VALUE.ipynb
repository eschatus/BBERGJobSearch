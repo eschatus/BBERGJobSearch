{
  "metadata": {
    "kernelspec": {
      "name": "py-dku-venv-valuecodeenv",
      "display_name": "Python (env VALUECodeENV)",
      "language": "python"
    },
    "hide_input": false,
    "language_info": {
      "name": "python",
      "version": "3.9.19",
      "mimetype": "text/x-python",
      "codemirror_mode": {
        "name": "ipython",
        "version": 3
      },
      "pygments_lexer": "ipython3",
      "nbconvert_exporter": "python",
      "file_extension": ".py"
    },
    "modifiedBy": "sibongile.toure@dataiku.com",
    "tags": [],
    "createdOn": 1733935906073,
    "creator": "sibongile.toure@dataiku.com",
    "customFields": {}
  },
  "nbformat": 4,
  "nbformat_minor": 1,
  "cells": [
    {
      "execution_count": 0,
      "cell_type": "code",
      "metadata": {},
      "source": [
        "%pylab inline"
      ],
      "outputs": []
    },
    {
      "execution_count": 0,
      "cell_type": "code",
      "metadata": {},
      "source": [
        "import dataiku\nfrom dataiku import pandasutils as pdu\nimport pandas as pd\nimport os"
      ],
      "outputs": []
    },
    {
      "execution_count": 0,
      "cell_type": "code",
      "metadata": {},
      "source": [
        "# Example: load a DSS dataset as a Pandas dataframe\nmydataset \u003d dataiku.Dataset(\"mydataset\")\nmydataset_df \u003d mydataset.get_dataframe()"
      ],
      "outputs": []
    },
    {
      "execution_count": 0,
      "cell_type": "code",
      "metadata": {},
      "source": [
        "path \u003d os.getcwd()\nproject_name \u003d dataiku.get_custom_variables()[\"projectKey\"]\ndip_home \u003d dataiku.get_custom_variables()[\"dip.home\"]\nlibraries_path \u003d os.path.join(dip_home, \u0027config/projects/\u0027 + project_name + \u0027/lib\u0027)"
      ],
      "outputs": []
    },
    {
      "execution_count": 0,
      "cell_type": "code",
      "metadata": {},
      "source": [
        "import dataiku\n\nclient \u003d dataiku.api_client()\nproject \u003d client.get_default_project()\nlibrary \u003d project.get_library()\n\n"
      ],
      "outputs": []
    },
    {
      "execution_count": 0,
      "cell_type": "code",
      "metadata": {},
      "source": [
        ""
      ],
      "outputs": []
    },
    {
      "execution_count": 0,
      "cell_type": "code",
      "metadata": {},
      "source": [
        "glue_data \u003d library.get_folder(\u0027python\u0027).get_file(\u0027download_glue_data.py\u0027)"
      ],
      "outputs": []
    },
    {
      "execution_count": 0,
      "cell_type": "code",
      "metadata": {},
      "source": [
        "glue_data"
      ],
      "outputs": []
    },
    {
      "execution_count": 0,
      "cell_type": "code",
      "metadata": {},
      "source": [
        "import subprocess\nimport sys\nimport os.path as osp\n\ndef get_path_to_library_path(path_in_lib):\n    for path_chunk in sys.path:\n        searched_path \u003d osp.join(path_chunk, path_in_lib)\n        if osp.exists(searched_path):\n            return searched_path\n    raise Exception(\"Path %s not found in imported libraries\" % path_in_lib)\n\npath \u003d get_path_to_library_path(\"download_glue_data.py\")\nprint(\"Path:\", path)\n\ncurrent_python_path \u003d sys.executable\nprint(\"Current Python Path:\", current_python_path)\n\n# Specify the command to execute\ncommand \u003d [current_python_path, path, \u0027--resume\u0027, \u0027--lr\u003d0.01\u0027]\n\n# Execute the command\ntry:\n    result \u003d subprocess.run(command, check\u003dTrue, text\u003dTrue)\n    sys.exit(0)\nexcept subprocess.CalledProcessError as e:\n    print(f\"Subprocess execution failed with exit code {e.returncode}.\")\n    print(\"Output:\")\n    print(e.stdout)\n    print(\"Error:\")\n    print(e.stderr)\n    sys.exit(1)"
      ],
      "outputs": []
    },
    {
      "execution_count": 0,
      "cell_type": "code",
      "metadata": {},
      "source": [
        "for path_chunk in sys.path:\n        #searched_path \u003d osp.join(path_chunk, path_in_lib)\n        print(path_chunk)"
      ],
      "outputs": []
    },
    {
      "execution_count": 0,
      "cell_type": "code",
      "metadata": {},
      "source": [
        "for path_chunk in sys.path:\n        searched_path \u003d osp.join(path_chunk, \u0027SAE_to_AAVE_mapping.json\u0027)\n        if osp.exists(searched_path):\n            print(searched_path)"
      ],
      "outputs": []
    },
    {
      "execution_count": 0,
      "cell_type": "code",
      "metadata": {},
      "source": [
        "/data/dataiku/datadir/jupyter-run/dku-workdirs/LLMBIASJOBSEARCHCHAT/VALUE9d9d688b-dataiku_user/project-python-libs/LLMBIASJOBSEARCHCHAT/python/"
      ],
      "outputs": []
    }
  ]
}